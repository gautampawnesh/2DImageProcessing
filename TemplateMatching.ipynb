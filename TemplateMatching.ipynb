{
 "cells": [
  {
   "cell_type": "code",
   "execution_count": 1,
   "metadata": {},
   "outputs": [
    {
     "name": "stdout",
     "output_type": "stream",
     "text": [
      "(array([34]), array([105]))\n",
      "(105, 34)\n"
     ]
    }
   ],
   "source": [
    "import cv2\n",
    "import numpy as np \n",
    "\n",
    "img = cv2.imread(\"images/image03.jpeg\")\n",
    "\n",
    "grey_img = cv2.cvtColor(img, cv2.COLOR_BGR2GRAY)\n",
    "template = cv2.imread(\"images/image04.jpg\", 0)\n",
    "w,h = template.shape[::-1]\n",
    "\n",
    "res = cv2.matchTemplate(grey_img, template, cv2.TM_CCOEFF_NORMED)\n",
    "#print(res)\n",
    "threshold = 0.95 \n",
    "loc = np.where(res >= threshold)\n",
    "\n",
    "#print(loc)\n",
    "for pt in zip(*loc[::-1]):\n",
    "    #print(pt)\n",
    "    cv2.rectangle(img, pt, (pt[0]+w, pt[1]+h), (0,0,255), 2)\n",
    "cv2.imshow(\"detected\", img)\n",
    "\n",
    "cv2.imshow(\"img\", img)\n",
    "cv2.waitKey(0)\n",
    "cv2.destroyAllWindows()"
   ]
  },
  {
   "cell_type": "code",
   "execution_count": null,
   "metadata": {},
   "outputs": [
    {
     "name": "stdout",
     "output_type": "stream",
     "text": [
      "130:130+54, 239:239+37\n",
      "matching completed..\n",
      "(105, 34)\n"
     ]
    }
   ],
   "source": [
    "# Implementation of cross-correlation for template matching.\n",
    "\n",
    "import cv2\n",
    "import numpy as np \n",
    "img = cv2.imread(\"images/image03.jpeg\")\n",
    "\n",
    "grey_img = cv2.cvtColor(img, cv2.COLOR_BGR2GRAY)\n",
    "template = cv2.imread(\"images/image04.jpg\", 0)\n",
    "\n",
    "\n",
    "temp_minus_temp_var = template - np.mean(template)\n",
    "temp_row, temp_column = template.shape\n",
    "break_loop = False\n",
    "\n",
    "g_t = np.zeros((grey_img.shape[0], grey_img.shape[1]))\n",
    "for i in range(grey_img.shape[0]):\n",
    "    if break_loop: \n",
    "        break\n",
    "    for j in range(grey_img.shape[1]):\n",
    "        #print(f\"{i}:{i}+{temp_row}, {j}:{j}+{temp_column}\")\n",
    "        sub_image = grey_img[i:i + temp_row, j:j + temp_column]\n",
    "        if sub_image.shape[0] != temp_row and sub_image.shape[1] != temp_column:\n",
    "            diff_r = temp_row - sub_image.shape[0]\n",
    "            diff_c = temp_column - sub_image.shape[1]\n",
    "            sub_image = grey_img[i-diff_r:i + temp_row, j-diff_c:j + temp_column]\n",
    "            #print(f\"{i}:{i}+{temp_row}, {j}:{j}+{temp_column}\")\n",
    "            print(\"matching completed..\") \n",
    "            break_loop = True\n",
    "        elif sub_image.shape[0] != temp_row:\n",
    "            diff_ = temp_row - sub_image.shape[0]\n",
    "            sub_image = grey_img[i-diff_:i + temp_row, j:j + temp_column]\n",
    "        elif sub_image.shape[1] != temp_column:\n",
    "            diff_ = temp_column - sub_image.shape[1]\n",
    "            sub_image = grey_img[i:i + temp_row, j-diff_:j + temp_column]\n",
    "            \n",
    "        # check , whether all sub_image is of template size\n",
    "        if sub_image.shape != template.shape:\n",
    "            print(f\"{i}:{i}+{temp_row}, {j}:{j}+{temp_column}\")\n",
    "            print(\"invalid template\")\n",
    "            print(sub_image)\n",
    "            \n",
    "        ft_minus_ft_var = sub_image - np.mean(sub_image)\n",
    "        \n",
    "        \n",
    "        threshold = 0.99\n",
    "        g_t_1 = (1/(temp_row*temp_column*np.std(template)*np.std(sub_image)))* (temp_minus_temp_var * ft_minus_ft_var)\n",
    "        \n",
    "        g_t[i, j] = np.sum(g_t_1)\n",
    "        if break_loop:        \n",
    "            break\n",
    "            \n",
    "            \n",
    "corr_intensity = np.where(g_t >= threshold) \n",
    "\n",
    "for pt in zip(*corr_intensity[::-1]):\n",
    "    print(pt)\n",
    "    cv2.rectangle(img, pt, (pt[0]+temp_column, pt[1]+temp_row), (0,0,255), 2)\n",
    "cv2.imshow(\"detected\", img)\n",
    "\n",
    "cv2.imshow(\"img\", img)\n",
    "cv2.waitKey(0)\n",
    "cv2.destroyAllWindows()\n",
    "        "
   ]
  },
  {
   "cell_type": "code",
   "execution_count": null,
   "metadata": {},
   "outputs": [],
   "source": []
  }
 ],
 "metadata": {
  "kernelspec": {
   "display_name": "Python 3",
   "language": "python",
   "name": "python3"
  },
  "language_info": {
   "codemirror_mode": {
    "name": "ipython",
    "version": 3
   },
   "file_extension": ".py",
   "mimetype": "text/x-python",
   "name": "python",
   "nbconvert_exporter": "python",
   "pygments_lexer": "ipython3",
   "version": "3.7.4"
  }
 },
 "nbformat": 4,
 "nbformat_minor": 2
}
