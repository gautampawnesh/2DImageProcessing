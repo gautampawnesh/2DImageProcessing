{
 "cells": [
  {
   "cell_type": "code",
   "execution_count": null,
   "metadata": {},
   "outputs": [],
   "source": [
    "import numpy as np \n",
    "import cv2 as cv\n",
    "cv.namedWindow('CannyEdgeDetector')\n",
    "\n",
    "def thresold_display(x):\n",
    "    print(f\"Thresold {x}\")\n",
    "    \n",
    "def canny_(thres1=200, thres2=300):\n",
    "    img = cv.imread(\"lena.jpg\")\n",
    "    return cv.Canny(img, thres1, thres2)\n",
    "\n",
    "# adding trackbar\n",
    "cv.createTrackbar('Thresold1', 'CannyEdgeDetector', 200, 500, thresold_display)\n",
    "cv.createTrackbar('Thresold2', 'CannyEdgeDetector', 100, 500, thresold_display)\n",
    "\n",
    "while(1):\n",
    "    img = canny_()\n",
    "    cv.imshow('CannyEdgeDetector', img)\n",
    "    \n",
    "        \n",
    "    thresold1 = cv.getTrackbarPos('Thresold1', 'CannyEdgeDetector')\n",
    "    thresold2 = cv.getTrackbarPos('Thresold2', 'CannyEdgeDetector')\n",
    "    if thresold1 and thresold2:\n",
    "        img = canny_(thresold1, thresold2)\n",
    "        \n",
    "    img = cv.imshow('CannyEdgeDetector', img)\n",
    "    \n",
    "    k = cv.waitKey(1) & 0xFF\n",
    "    if k ==27:\n",
    "        break\n",
    "cv.destroyAllWindows()"
   ]
  },
  {
   "cell_type": "code",
   "execution_count": null,
   "metadata": {},
   "outputs": [],
   "source": []
  }
 ],
 "metadata": {
  "kernelspec": {
   "display_name": "Python 3",
   "language": "python",
   "name": "python3"
  },
  "language_info": {
   "codemirror_mode": {
    "name": "ipython",
    "version": 3
   },
   "file_extension": ".py",
   "mimetype": "text/x-python",
   "name": "python",
   "nbconvert_exporter": "python",
   "pygments_lexer": "ipython3",
   "version": "3.7.4"
  }
 },
 "nbformat": 4,
 "nbformat_minor": 2
}
